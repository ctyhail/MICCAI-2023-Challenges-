{
 "cells": [
  {
   "cell_type": "code",
   "execution_count": 2,
   "metadata": {},
   "outputs": [],
   "source": [
    "#加载一些基础的库\n",
    "import torch\n",
    "import os\n",
    "import numpy as np\n",
    "import torchvision\n",
    "from tqdm import tqdm #一个实现进度条的库\n",
    "import random"
   ]
  },
  {
   "cell_type": "code",
   "execution_count": 6,
   "metadata": {},
   "outputs": [],
   "source": [
    "from torch.utils.data import Dataset\n",
    "from torchvision import transforms\n",
    "from torchvision.utils import save_image\n",
    "from PIL import Image\n",
    "import cv2\n",
    "import albumentations as A\n",
    "\n",
    "totensor =transforms.Compose({\n",
    "    #转化为Tensor\n",
    "    transforms.ToTensor()\n",
    "})\n",
    "\n",
    "#数据增强\n",
    "transform = A.Compose(\n",
    "    [\n",
    "        A.HorizontalFlip(p=0.5),#水平翻转\n",
    "        A.VerticalFlip(p=0.5),#垂直翻转\n",
    "        A.OneOf(#随机选择一个OneOf\n",
    "            [\n",
    "                A.RandomGamma(p=1),#随机伽马变换\n",
    "                A.RandomBrightnessContrast(p=1),#随机亮度\n",
    "                A.Blur(p=1),#模糊\n",
    "                A.OpticalDistortion(p=1),#光学畸变\n",
    "            ],\n",
    "            p=0.5,\n",
    "        ),\n",
    "        A.OneOf(\n",
    "            [\n",
    "                A.ElasticTransform(p=1),#弹性变换\n",
    "                A.GridDistortion(p=1),#网格失真\n",
    "                A.MotionBlur(p=1),#运动模糊\n",
    "                A.HueSaturationValue(p=1),#色调，饱和度值随机变化\n",
    "            ],\n",
    "            p=0.5,\n",
    "        ),\n",
    "    ]\n",
    ")\n",
    "\n",
    "#首先继承Dataset写一个对于数据进行读入和处理的方式\n",
    "class MyDataset(Dataset):\n",
    "    def __init__(self,path):\n",
    "        self.mode=('train' if 'mask' in os.listdir(path) else 'test')#表示训练模式\n",
    "        self.path=path#图片路径\n",
    "        dirlist=os.listdir(path+'image/')#图片的名称\n",
    "        self.name=[n for n in dirlist if n[-3:]=='png'] #只读取图片\n",
    "        \n",
    "    def __len__(self):\n",
    "        return len(self.name)\n",
    "    \n",
    "    def __getitem__(self,index):#获取数据的处理方式\n",
    "        name=self.name[index]\n",
    "        #读取原始图片和标签\n",
    "        if self.mode=='train':#训练模式\n",
    "            ori_img=cv2.imread(self.path+'image/'+name)#原始图片\n",
    "            lb_img=cv2.imread(self.path+'mask/'+name)#标签图片\n",
    "            ori_img=cv2.cvtColor(ori_img,cv2.COLOR_BGR2RGB)#转为RGB三通道图\n",
    "            lb_img=cv2.cvtColor(lb_img,cv2.COLOR_BGR2GRAY)#掩膜转为灰度图\n",
    "            transformed = transform(image=ori_img,mask=lb_img)\n",
    "            return totensor(transformed['image']),totensor(transformed['mask'])\n",
    "        \n",
    "        if self.mode=='test':#测试模式\n",
    "            ori_img=cv2.imread(self.path+'image/'+name)#原始图片\n",
    "            ori_img=cv2.cvtColor(ori_img,cv2.COLOR_BGR2RGB)#转为RGB三通道图\n",
    "            return totensor(ori_img)\n",
    "\n",
    "#加载数据集\n",
    "train_path=r'D:\\暑期考核\\train/'\n",
    "traindata=MyDataset(train_path)\n",
    "test_path=''"
   ]
  },
  {
   "cell_type": "code",
   "execution_count": 7,
   "metadata": {},
   "outputs": [
    {
     "ename": "error",
     "evalue": "OpenCV(4.10.0) D:\\a\\opencv-python\\opencv-python\\opencv\\modules\\imgproc\\src\\color.cpp:196: error: (-215:Assertion failed) !_src.empty() in function 'cv::cvtColor'\n",
     "output_type": "error",
     "traceback": [
      "\u001b[1;31m---------------------------------------------------------------------------\u001b[0m",
      "\u001b[1;31merror\u001b[0m                                     Traceback (most recent call last)",
      "Cell \u001b[1;32mIn[7], line 3\u001b[0m\n\u001b[0;32m      1\u001b[0m \u001b[38;5;66;03m#查看图片读取效果\u001b[39;00m\n\u001b[0;32m      2\u001b[0m \u001b[38;5;28;01mimport\u001b[39;00m \u001b[38;5;21;01mmatplotlib\u001b[39;00m\u001b[38;5;21;01m.\u001b[39;00m\u001b[38;5;21;01mpyplot\u001b[39;00m \u001b[38;5;28;01mas\u001b[39;00m \u001b[38;5;21;01mplt\u001b[39;00m\n\u001b[1;32m----> 3\u001b[0m o_img,l_img\u001b[38;5;241m=\u001b[39m\u001b[43mtraindata\u001b[49m\u001b[43m[\u001b[49m\u001b[43mnp\u001b[49m\u001b[38;5;241;43m.\u001b[39;49m\u001b[43mrandom\u001b[49m\u001b[38;5;241;43m.\u001b[39;49m\u001b[43mrandint\u001b[49m\u001b[43m(\u001b[49m\u001b[38;5;241;43m0\u001b[39;49m\u001b[43m,\u001b[49m\u001b[38;5;241;43m2000\u001b[39;49m\u001b[43m)\u001b[49m\u001b[43m]\u001b[49m\n\u001b[0;32m      4\u001b[0m plt\u001b[38;5;241m.\u001b[39msubplot(\u001b[38;5;241m1\u001b[39m,\u001b[38;5;241m2\u001b[39m,\u001b[38;5;241m1\u001b[39m)\n\u001b[0;32m      5\u001b[0m plt\u001b[38;5;241m.\u001b[39mimshow(o_img\u001b[38;5;241m.\u001b[39mpermute(\u001b[38;5;241m1\u001b[39m,\u001b[38;5;241m2\u001b[39m, \u001b[38;5;241m0\u001b[39m))\n",
      "Cell \u001b[1;32mIn[6], line 56\u001b[0m, in \u001b[0;36mMyDataset.__getitem__\u001b[1;34m(self, index)\u001b[0m\n\u001b[0;32m     54\u001b[0m ori_img\u001b[38;5;241m=\u001b[39mcv2\u001b[38;5;241m.\u001b[39mimread(\u001b[38;5;28mself\u001b[39m\u001b[38;5;241m.\u001b[39mpath\u001b[38;5;241m+\u001b[39m\u001b[38;5;124m'\u001b[39m\u001b[38;5;124mimage/\u001b[39m\u001b[38;5;124m'\u001b[39m\u001b[38;5;241m+\u001b[39mname)\u001b[38;5;66;03m#原始图片\u001b[39;00m\n\u001b[0;32m     55\u001b[0m lb_img\u001b[38;5;241m=\u001b[39mcv2\u001b[38;5;241m.\u001b[39mimread(\u001b[38;5;28mself\u001b[39m\u001b[38;5;241m.\u001b[39mpath\u001b[38;5;241m+\u001b[39m\u001b[38;5;124m'\u001b[39m\u001b[38;5;124mmask/\u001b[39m\u001b[38;5;124m'\u001b[39m\u001b[38;5;241m+\u001b[39mname)\u001b[38;5;66;03m#标签图片\u001b[39;00m\n\u001b[1;32m---> 56\u001b[0m ori_img\u001b[38;5;241m=\u001b[39m\u001b[43mcv2\u001b[49m\u001b[38;5;241;43m.\u001b[39;49m\u001b[43mcvtColor\u001b[49m\u001b[43m(\u001b[49m\u001b[43mori_img\u001b[49m\u001b[43m,\u001b[49m\u001b[43mcv2\u001b[49m\u001b[38;5;241;43m.\u001b[39;49m\u001b[43mCOLOR_BGR2RGB\u001b[49m\u001b[43m)\u001b[49m\u001b[38;5;66;03m#转为RGB三通道图\u001b[39;00m\n\u001b[0;32m     57\u001b[0m lb_img\u001b[38;5;241m=\u001b[39mcv2\u001b[38;5;241m.\u001b[39mcvtColor(lb_img,cv2\u001b[38;5;241m.\u001b[39mCOLOR_BGR2GRAY)\u001b[38;5;66;03m#掩膜转为灰度图\u001b[39;00m\n\u001b[0;32m     58\u001b[0m transformed \u001b[38;5;241m=\u001b[39m transform(image\u001b[38;5;241m=\u001b[39mori_img,mask\u001b[38;5;241m=\u001b[39mlb_img)\n",
      "\u001b[1;31merror\u001b[0m: OpenCV(4.10.0) D:\\a\\opencv-python\\opencv-python\\opencv\\modules\\imgproc\\src\\color.cpp:196: error: (-215:Assertion failed) !_src.empty() in function 'cv::cvtColor'\n"
     ]
    }
   ],
   "source": [
    "#查看图片读取效果\n",
    "import matplotlib.pyplot as plt\n",
    "o_img,l_img=traindata[np.random.randint(0,2000)]\n",
    "plt.subplot(1,2,1)\n",
    "plt.imshow(o_img.permute(1,2, 0))\n",
    "plt.subplot(1,2,2)\n",
    "plt.imshow(l_img.permute(1,2, 0))\n",
    "print(\"原始图片张量的形状:\",o_img.shape)\n",
    "print(\"标签图片张量的形状:\",l_img.shape)#([1, 320, 640]) 其中 1 表示分类类别，我们为2分类任务,类别表示为01"
   ]
  },
  {
   "cell_type": "code",
   "execution_count": 4,
   "metadata": {},
   "outputs": [],
   "source": [
    "#配置模型超参数\n",
    "#模型保存的路径\n",
    "model_path='models/'\n",
    "if not os.path.exists(model_path):\n",
    "    os.makedirs(model_path)\n",
    "#推荐使用gpu进行训练\n",
    "device=torch.device(\"cuda\" if torch.cuda.is_available() else \"cpu\")\n",
    "#学习率\n",
    "lr=1e-3\n",
    "#学习率衰减\n",
    "weight_decay=1e-4\n",
    "#批大小\n",
    "bs=8\n",
    "#训练轮次\n",
    "epochs=100\n",
    "\n",
    "\n"
   ]
  },
  {
   "cell_type": "code",
   "execution_count": 5,
   "metadata": {},
   "outputs": [],
   "source": [
    "import torchvision\n",
    "import torch.nn as nn\n",
    "import segmentation_models_pytorch as smp\n",
    "'''\n",
    "加载经典用于医学图像分割的UNet,encoder_name为模型的backbone\n",
    "encoder_weigths可选imagenet或者None代表是否加载预训练参数\n",
    "in_channel为输入图像的通道数\n",
    "classes为分类数目\n",
    "'''\n",
    "model = smp.Unet(\n",
    "        encoder_name=\"resnet50\",  \n",
    "        encoder_weights='imagenet',\n",
    "        in_channels=3,\n",
    "        classes=1,\n",
    "        #activation=\"sigmoid\",\n",
    "    )\n",
    "#打印模型信息\n",
    "#print(model) \n",
    "\n",
    "\n"
   ]
  },
  {
   "cell_type": "code",
   "execution_count": 6,
   "metadata": {},
   "outputs": [],
   "source": [
    "#训练前准备\n",
    "from torch.utils.data import DataLoader\n",
    "#加载模型到gpu或cpu\n",
    "model.to(device)\n",
    "#使用Binary CrossEntropy作为损失函数，主要处理二分类问题\n",
    "# BCEloss=nn.BCELoss()\n",
    "#加载优化器,使用Adam,主要是炼的快(๑ت๑)\n",
    "optim=torch.optim.Adam(model.parameters(),lr=lr, weight_decay=weight_decay)\n",
    "#学习率调整机制\n",
    "scheduler = torch.optim.lr_scheduler.StepLR(optim,step_size=10,gamma=0.5)\n",
    "#使用traindata创建dataloader对象\n",
    "trainloader=DataLoader(traindata,batch_size=bs, shuffle=True, num_workers=0)\n",
    "#根据赛题评测选用dice_loss，这个是开源代码\n",
    "def dice_loss(logits, target):\n",
    "    smooth = 1.\n",
    "    prob  = torch.sigmoid(logits)\n",
    "    batch = prob.size(0)\n",
    "    prob   = prob.view(batch,1,-1)\n",
    "    target = target.view(batch,1,-1)\n",
    "    intersection = torch.sum(prob*target, dim=2)\n",
    "    denominator  = torch.sum(prob, dim=2) + torch.sum(target, dim=2)\n",
    "    dice = (2*intersection + smooth) / (denominator + smooth)\n",
    "    dice = torch.mean(dice)\n",
    "    dice_loss = 1. - dice\n",
    "    return dice_loss"
   ]
  },
  {
   "cell_type": "code",
   "execution_count": 7,
   "metadata": {},
   "outputs": [
    {
     "name": "stderr",
     "output_type": "stream",
     "text": [
      "Epoch 1/100: 100%|##########| 250/250 [01:28<00:00,  2.83it/s]\n"
     ]
    },
    {
     "name": "stdout",
     "output_type": "stream",
     "text": [
      "\n",
      "Epoch: 1/100,DiceLoss:0.10695207118988037\n"
     ]
    },
    {
     "name": "stderr",
     "output_type": "stream",
     "text": [
      "Epoch 2/100: 100%|##########| 250/250 [01:24<00:00,  2.95it/s]\n"
     ]
    },
    {
     "name": "stdout",
     "output_type": "stream",
     "text": [
      "\n",
      "Epoch: 2/100,DiceLoss:0.13612818717956543\n"
     ]
    },
    {
     "name": "stderr",
     "output_type": "stream",
     "text": [
      "Epoch 3/100: 100%|##########| 250/250 [01:25<00:00,  2.94it/s]\n"
     ]
    },
    {
     "name": "stdout",
     "output_type": "stream",
     "text": [
      "\n",
      "Epoch: 3/100,DiceLoss:0.09359920024871826\n"
     ]
    },
    {
     "name": "stderr",
     "output_type": "stream",
     "text": [
      "Epoch 4/100: 100%|##########| 250/250 [01:23<00:00,  2.99it/s]\n"
     ]
    },
    {
     "name": "stdout",
     "output_type": "stream",
     "text": [
      "\n",
      "Epoch: 4/100,DiceLoss:0.08488637208938599\n"
     ]
    },
    {
     "name": "stderr",
     "output_type": "stream",
     "text": [
      "Epoch 5/100: 100%|##########| 250/250 [01:24<00:00,  2.96it/s]\n"
     ]
    },
    {
     "name": "stdout",
     "output_type": "stream",
     "text": [
      "\n",
      "Epoch: 5/100,DiceLoss:0.07217812538146973\n"
     ]
    },
    {
     "name": "stderr",
     "output_type": "stream",
     "text": [
      "Epoch 6/100: 100%|##########| 250/250 [01:25<00:00,  2.93it/s]\n"
     ]
    },
    {
     "name": "stdout",
     "output_type": "stream",
     "text": [
      "\n",
      "Epoch: 6/100,DiceLoss:0.12712466716766357\n"
     ]
    },
    {
     "name": "stderr",
     "output_type": "stream",
     "text": [
      "Epoch 7/100: 100%|##########| 250/250 [01:24<00:00,  2.96it/s]\n"
     ]
    },
    {
     "name": "stdout",
     "output_type": "stream",
     "text": [
      "\n",
      "Epoch: 7/100,DiceLoss:0.08231562376022339\n"
     ]
    },
    {
     "name": "stderr",
     "output_type": "stream",
     "text": [
      "Epoch 8/100: 100%|##########| 250/250 [01:26<00:00,  2.91it/s]\n"
     ]
    },
    {
     "name": "stdout",
     "output_type": "stream",
     "text": [
      "\n",
      "Epoch: 8/100,DiceLoss:0.09928834438323975\n"
     ]
    },
    {
     "name": "stderr",
     "output_type": "stream",
     "text": [
      "Epoch 9/100: 100%|##########| 250/250 [01:25<00:00,  2.92it/s]\n"
     ]
    },
    {
     "name": "stdout",
     "output_type": "stream",
     "text": [
      "\n",
      "Epoch: 9/100,DiceLoss:0.08739686012268066\n"
     ]
    },
    {
     "name": "stderr",
     "output_type": "stream",
     "text": [
      "Epoch 10/100: 100%|##########| 250/250 [01:24<00:00,  2.95it/s]\n"
     ]
    },
    {
     "name": "stdout",
     "output_type": "stream",
     "text": [
      "\n",
      "Epoch: 10/100,DiceLoss:0.09424811601638794\n"
     ]
    },
    {
     "name": "stderr",
     "output_type": "stream",
     "text": [
      "Epoch 11/100: 100%|##########| 250/250 [01:21<00:00,  3.05it/s]\n"
     ]
    },
    {
     "name": "stdout",
     "output_type": "stream",
     "text": [
      "\n",
      "Epoch: 11/100,DiceLoss:0.11943531036376953\n"
     ]
    },
    {
     "name": "stderr",
     "output_type": "stream",
     "text": [
      "Epoch 12/100: 100%|##########| 250/250 [01:21<00:00,  3.08it/s]\n"
     ]
    },
    {
     "name": "stdout",
     "output_type": "stream",
     "text": [
      "\n",
      "Epoch: 12/100,DiceLoss:0.08157360553741455\n"
     ]
    },
    {
     "name": "stderr",
     "output_type": "stream",
     "text": [
      "Epoch 13/100: 100%|##########| 250/250 [01:20<00:00,  3.10it/s]\n"
     ]
    },
    {
     "name": "stdout",
     "output_type": "stream",
     "text": [
      "\n",
      "Epoch: 13/100,DiceLoss:0.07318770885467529\n"
     ]
    },
    {
     "name": "stderr",
     "output_type": "stream",
     "text": [
      "Epoch 14/100: 100%|##########| 250/250 [01:20<00:00,  3.09it/s]\n"
     ]
    },
    {
     "name": "stdout",
     "output_type": "stream",
     "text": [
      "\n",
      "Epoch: 14/100,DiceLoss:0.08388876914978027\n"
     ]
    },
    {
     "name": "stderr",
     "output_type": "stream",
     "text": [
      "Epoch 15/100: 100%|##########| 250/250 [01:20<00:00,  3.09it/s]\n"
     ]
    },
    {
     "name": "stdout",
     "output_type": "stream",
     "text": [
      "\n",
      "Epoch: 15/100,DiceLoss:0.0740659236907959\n"
     ]
    },
    {
     "name": "stderr",
     "output_type": "stream",
     "text": [
      "Epoch 16/100: 100%|##########| 250/250 [01:28<00:00,  2.83it/s]\n"
     ]
    },
    {
     "name": "stdout",
     "output_type": "stream",
     "text": [
      "\n",
      "Epoch: 16/100,DiceLoss:0.09631085395812988\n"
     ]
    },
    {
     "name": "stderr",
     "output_type": "stream",
     "text": [
      "Epoch 17/100: 100%|##########| 250/250 [01:21<00:00,  3.08it/s]\n"
     ]
    },
    {
     "name": "stdout",
     "output_type": "stream",
     "text": [
      "\n",
      "Epoch: 17/100,DiceLoss:0.07004344463348389\n"
     ]
    },
    {
     "name": "stderr",
     "output_type": "stream",
     "text": [
      "Epoch 18/100: 100%|##########| 250/250 [01:21<00:00,  3.05it/s]\n"
     ]
    },
    {
     "name": "stdout",
     "output_type": "stream",
     "text": [
      "\n",
      "Epoch: 18/100,DiceLoss:0.0829918384552002\n"
     ]
    },
    {
     "name": "stderr",
     "output_type": "stream",
     "text": [
      "Epoch 19/100: 100%|##########| 250/250 [01:21<00:00,  3.08it/s]\n"
     ]
    },
    {
     "name": "stdout",
     "output_type": "stream",
     "text": [
      "\n",
      "Epoch: 19/100,DiceLoss:0.09192550182342529\n"
     ]
    },
    {
     "name": "stderr",
     "output_type": "stream",
     "text": [
      "Epoch 20/100: 100%|##########| 250/250 [01:24<00:00,  2.95it/s]\n"
     ]
    },
    {
     "name": "stdout",
     "output_type": "stream",
     "text": [
      "\n",
      "Epoch: 20/100,DiceLoss:0.08303797245025635\n"
     ]
    },
    {
     "name": "stderr",
     "output_type": "stream",
     "text": [
      "Epoch 21/100: 100%|##########| 250/250 [01:25<00:00,  2.94it/s]\n"
     ]
    },
    {
     "name": "stdout",
     "output_type": "stream",
     "text": [
      "\n",
      "Epoch: 21/100,DiceLoss:0.09928947687149048\n"
     ]
    },
    {
     "name": "stderr",
     "output_type": "stream",
     "text": [
      "Epoch 22/100: 100%|##########| 250/250 [01:25<00:00,  2.94it/s]\n"
     ]
    },
    {
     "name": "stdout",
     "output_type": "stream",
     "text": [
      "\n",
      "Epoch: 22/100,DiceLoss:0.08781594038009644\n"
     ]
    },
    {
     "name": "stderr",
     "output_type": "stream",
     "text": [
      "Epoch 23/100: 100%|##########| 250/250 [01:25<00:00,  2.92it/s]\n"
     ]
    },
    {
     "name": "stdout",
     "output_type": "stream",
     "text": [
      "\n",
      "Epoch: 23/100,DiceLoss:0.08189541101455688\n"
     ]
    },
    {
     "name": "stderr",
     "output_type": "stream",
     "text": [
      "Epoch 24/100: 100%|##########| 250/250 [01:25<00:00,  2.93it/s]\n"
     ]
    },
    {
     "name": "stdout",
     "output_type": "stream",
     "text": [
      "\n",
      "Epoch: 24/100,DiceLoss:0.08340150117874146\n"
     ]
    },
    {
     "name": "stderr",
     "output_type": "stream",
     "text": [
      "Epoch 25/100: 100%|##########| 250/250 [01:25<00:00,  2.92it/s]\n"
     ]
    },
    {
     "name": "stdout",
     "output_type": "stream",
     "text": [
      "\n",
      "Epoch: 25/100,DiceLoss:0.0700230598449707\n"
     ]
    },
    {
     "name": "stderr",
     "output_type": "stream",
     "text": [
      "Epoch 26/100: 100%|##########| 250/250 [01:25<00:00,  2.91it/s]\n"
     ]
    },
    {
     "name": "stdout",
     "output_type": "stream",
     "text": [
      "\n",
      "Epoch: 26/100,DiceLoss:0.0701669454574585\n"
     ]
    },
    {
     "name": "stderr",
     "output_type": "stream",
     "text": [
      "Epoch 27/100: 100%|##########| 250/250 [01:26<00:00,  2.90it/s]\n"
     ]
    },
    {
     "name": "stdout",
     "output_type": "stream",
     "text": [
      "\n",
      "Epoch: 27/100,DiceLoss:0.08356636762619019\n"
     ]
    },
    {
     "name": "stderr",
     "output_type": "stream",
     "text": [
      "Epoch 28/100: 100%|##########| 250/250 [01:25<00:00,  2.91it/s]\n"
     ]
    },
    {
     "name": "stdout",
     "output_type": "stream",
     "text": [
      "\n",
      "Epoch: 28/100,DiceLoss:0.08394801616668701\n"
     ]
    },
    {
     "name": "stderr",
     "output_type": "stream",
     "text": [
      "Epoch 29/100: 100%|##########| 250/250 [01:27<00:00,  2.85it/s]\n"
     ]
    },
    {
     "name": "stdout",
     "output_type": "stream",
     "text": [
      "\n",
      "Epoch: 29/100,DiceLoss:0.09484469890594482\n"
     ]
    },
    {
     "name": "stderr",
     "output_type": "stream",
     "text": [
      "Epoch 30/100: 100%|##########| 250/250 [01:27<00:00,  2.87it/s]\n"
     ]
    },
    {
     "name": "stdout",
     "output_type": "stream",
     "text": [
      "\n",
      "Epoch: 30/100,DiceLoss:0.08372056484222412\n"
     ]
    },
    {
     "name": "stderr",
     "output_type": "stream",
     "text": [
      "Epoch 31/100: 100%|##########| 250/250 [01:25<00:00,  2.91it/s]\n"
     ]
    },
    {
     "name": "stdout",
     "output_type": "stream",
     "text": [
      "\n",
      "Epoch: 31/100,DiceLoss:0.08470964431762695\n"
     ]
    },
    {
     "name": "stderr",
     "output_type": "stream",
     "text": [
      "Epoch 32/100: 100%|##########| 250/250 [01:25<00:00,  2.92it/s]\n"
     ]
    },
    {
     "name": "stdout",
     "output_type": "stream",
     "text": [
      "\n",
      "Epoch: 32/100,DiceLoss:0.06603515148162842\n"
     ]
    },
    {
     "name": "stderr",
     "output_type": "stream",
     "text": [
      "Epoch 33/100: 100%|##########| 250/250 [01:25<00:00,  2.93it/s]\n"
     ]
    },
    {
     "name": "stdout",
     "output_type": "stream",
     "text": [
      "\n",
      "Epoch: 33/100,DiceLoss:0.08943235874176025\n"
     ]
    },
    {
     "name": "stderr",
     "output_type": "stream",
     "text": [
      "Epoch 34/100: 100%|##########| 250/250 [01:25<00:00,  2.92it/s]\n"
     ]
    },
    {
     "name": "stdout",
     "output_type": "stream",
     "text": [
      "\n",
      "Epoch: 34/100,DiceLoss:0.07831847667694092\n"
     ]
    },
    {
     "name": "stderr",
     "output_type": "stream",
     "text": [
      "Epoch 35/100:  62%|######2   | 156/250 [00:54<00:32,  2.87it/s]\n"
     ]
    },
    {
     "ename": "KeyboardInterrupt",
     "evalue": "",
     "output_type": "error",
     "traceback": [
      "\u001b[1;31m---------------------------------------------------------------------------\u001b[0m",
      "\u001b[1;31mKeyboardInterrupt\u001b[0m                         Traceback (most recent call last)",
      "Cell \u001b[1;32mIn[7], line 9\u001b[0m\n\u001b[0;32m      5\u001b[0m \u001b[38;5;28;01mfor\u001b[39;00m epoch \u001b[38;5;129;01min\u001b[39;00m \u001b[38;5;28mrange\u001b[39m(\u001b[38;5;241m1\u001b[39m,epochs\u001b[38;5;241m+\u001b[39m\u001b[38;5;241m1\u001b[39m):\n\u001b[0;32m      6\u001b[0m     \u001b[38;5;28;01mfor\u001b[39;00m step,(inputs,labels) \u001b[38;5;129;01min\u001b[39;00m tqdm(\u001b[38;5;28menumerate\u001b[39m(trainloader),desc\u001b[38;5;241m=\u001b[39m\u001b[38;5;124mf\u001b[39m\u001b[38;5;124m\"\u001b[39m\u001b[38;5;124mEpoch \u001b[39m\u001b[38;5;132;01m{\u001b[39;00mepoch\u001b[38;5;132;01m}\u001b[39;00m\u001b[38;5;124m/\u001b[39m\u001b[38;5;132;01m{\u001b[39;00mepochs\u001b[38;5;132;01m}\u001b[39;00m\u001b[38;5;124m\"\u001b[39m,\n\u001b[0;32m      7\u001b[0m                                        ascii\u001b[38;5;241m=\u001b[39m\u001b[38;5;28;01mTrue\u001b[39;00m, total\u001b[38;5;241m=\u001b[39m\u001b[38;5;28mlen\u001b[39m(trainloader)):\n\u001b[0;32m      8\u001b[0m         \u001b[38;5;66;03m#原始图片和标签\u001b[39;00m\n\u001b[1;32m----> 9\u001b[0m         inputs, labels \u001b[38;5;241m=\u001b[39m \u001b[43minputs\u001b[49m\u001b[38;5;241;43m.\u001b[39;49m\u001b[43mto\u001b[49m\u001b[43m(\u001b[49m\u001b[43mdevice\u001b[49m\u001b[43m)\u001b[49m, labels\u001b[38;5;241m.\u001b[39mto(device)\n\u001b[0;32m     10\u001b[0m         out \u001b[38;5;241m=\u001b[39m model(inputs)\n\u001b[0;32m     11\u001b[0m         loss \u001b[38;5;241m=\u001b[39m dice_loss(out, labels)\n",
      "\u001b[1;31mKeyboardInterrupt\u001b[0m: "
     ]
    }
   ],
   "source": [
    "#开始炼丹 没有做验证集，各位可以以自己需要去添加\n",
    "loss_last=99999\n",
    "best_model_name='x'\n",
    "#记录loss变化\n",
    "for epoch in range(1,epochs+1):\n",
    "    for step,(inputs,labels) in tqdm(enumerate(trainloader),desc=f\"Epoch {epoch}/{epochs}\",\n",
    "                                       ascii=True, total=len(trainloader)):\n",
    "        #原始图片和标签\n",
    "        inputs, labels = inputs.to(device), labels.to(device)\n",
    "        out = model(inputs)\n",
    "        loss = dice_loss(out, labels)\n",
    "        # 后向\n",
    "        optim.zero_grad()\n",
    "        #梯度反向传播\n",
    "        loss.backward()\n",
    "        optim.step()\n",
    "    scheduler.step()\n",
    "    #损失小于上一轮则添加\n",
    "    if loss<loss_last:\n",
    "        loss_last=loss\n",
    "        torch.save(model.state_dict(),model_path+'model_epoch{}_loss{}.pth'.format(epoch,loss))\n",
    "        best_model_name=model_path+'model_epoch{}_loss{}.pth'.format(epoch,loss)\n",
    "    print(f\"\\nEpoch: {epoch}/{epochs},DiceLoss:{loss}\")"
   ]
  },
  {
   "cell_type": "code",
   "execution_count": 1,
   "metadata": {},
   "outputs": [
    {
     "ename": "NameError",
     "evalue": "name 'model' is not defined",
     "output_type": "error",
     "traceback": [
      "\u001b[1;31m---------------------------------------------------------------------------\u001b[0m",
      "\u001b[1;31mNameError\u001b[0m                                 Traceback (most recent call last)",
      "Cell \u001b[1;32mIn[1], line 2\u001b[0m\n\u001b[0;32m      1\u001b[0m \u001b[38;5;66;03m#加载最优模型\u001b[39;00m\n\u001b[1;32m----> 2\u001b[0m \u001b[43mmodel\u001b[49m\u001b[38;5;241m.\u001b[39mload_state_dict(torch\u001b[38;5;241m.\u001b[39mload(\u001b[38;5;124m'\u001b[39m\u001b[38;5;124mmodels\u001b[39m\u001b[38;5;124m\\\u001b[39m\u001b[38;5;124mmodel_epoch32_loss0.06603515148162842.pth\u001b[39m\u001b[38;5;124m'\u001b[39m))\n\u001b[0;32m      3\u001b[0m \u001b[38;5;66;03m#加载测试集\u001b[39;00m\n\u001b[0;32m      4\u001b[0m test_path\u001b[38;5;241m=\u001b[39m\u001b[38;5;124m'\u001b[39m\u001b[38;5;124mtest/\u001b[39m\u001b[38;5;124m'\u001b[39m\n",
      "\u001b[1;31mNameError\u001b[0m: name 'model' is not defined"
     ]
    }
   ],
   "source": [
    "#加载最优模型\n",
    "model.load_state_dict(torch.load('models\\model_epoch32_loss0.06603515148162842.pth'))\n",
    "#加载测试集\n",
    "test_path='test/'\n",
    "testdata=MyDataset(test_path)\n",
    "#测试模型的预测效果\n",
    "x=np.random.randint(0,500)\n",
    "inputs=testdata[x].to(device)\n",
    "with torch.no_grad():\n",
    "    # 模型预测\n",
    "    t = model(inputs.view(1,3,320,640))\n",
    "plt.subplot(1,2,1)\n",
    "plt.imshow(testdata[x].permute(1,2,0))\n",
    "#对预测的图片采取一定的阈值进行分类\n",
    "threshold=0.5\n",
    "t= torch.where(t >=threshold, torch.tensor(255,dtype=torch.float).to(device), t)\n",
    "t= torch.where(t < threshold, torch.tensor(0,dtype=torch.float).to(device), t)\n",
    "t=t.cpu().view(1,320,640)\n",
    "plt.subplot(1,2,2)\n",
    "plt.imshow(t.permute(1,2,0))"
   ]
  },
  {
   "cell_type": "code",
   "execution_count": 9,
   "metadata": {},
   "outputs": [
    {
     "name": "stderr",
     "output_type": "stream",
     "text": [
      "500it [00:13, 36.58it/s]\n"
     ]
    }
   ],
   "source": [
    "from torchvision.utils import save_image\n",
    "from PIL import Image\n",
    "\n",
    "img_save_path='infers/'\n",
    "if not os.path.exists(img_save_path):\n",
    "    os.makedirs(img_save_path)\n",
    "for i,inputs in tqdm(enumerate(testdata)):\n",
    "    #原始图片和标签\n",
    "    inputs=inputs.reshape(1,3,320,640).to(device)\n",
    "    # 输出生成的图像\n",
    "    out = model(inputs.view(1,3,320,640)) # 模型预测\n",
    "    #TTA\n",
    "    inputs1 = inputs.flip(dims=[2]).to(device)\n",
    "    inputs2 = inputs.flip(dims=[3]).to(device)\n",
    "    inputs3 = inputs.flip(dims=[2,3]).to(device)\n",
    "    \n",
    "    out1 = model(inputs1).flip(dims=[2])\n",
    "    out2 = model(inputs2).flip(dims=[3])\n",
    "    out3 = model(inputs3).flip(dims=[2,3])\n",
    "\n",
    "    out = (out+out1+out2+out3) / 4\n",
    "\n",
    "    #对输出的图像进行后处理\n",
    "    threshold=0.5\n",
    "    out= torch.where(out >=threshold, torch.tensor(255,dtype=torch.float).to(device),out)\n",
    "    out= torch.where(out < threshold, torch.tensor(0,dtype=torch.float).to(device),out)\n",
    "    #保存图像\n",
    "    out= out.detach().cpu().numpy().reshape(1,320,640)\n",
    "    #注意保存为1位图提交\n",
    "    img = Image.fromarray(out[0].astype(np.uint8))\n",
    "    img = img.convert('1')\n",
    "    img.save(img_save_path + testdata.name[i])"
   ]
  },
  {
   "cell_type": "code",
   "execution_count": null,
   "metadata": {},
   "outputs": [],
   "source": [
    "#对保存的图像进行打包\n",
    "import zipfile\n",
    "\n",
    "def zip_files(file_paths, output_path):\n",
    "    with zipfile.ZipFile(output_path, 'w', zipfile.ZIP_DEFLATED) as zipf:\n",
    "        for file in file_paths:\n",
    "            zipf.write(file)\n",
    "            \n",
    "#打包图片\n",
    "file_paths = [img_save_path+i for i in os.listdir(img_save_path) if i[-3:]=='png']\n",
    "output_path = 'infer.zip'\n",
    "zip_files(file_paths, output_path)"
   ]
  }
 ],
 "metadata": {
  "kernelspec": {
   "display_name": "python_3.9",
   "language": "python",
   "name": "python3"
  },
  "language_info": {
   "codemirror_mode": {
    "name": "ipython",
    "version": 3
   },
   "file_extension": ".py",
   "mimetype": "text/x-python",
   "name": "python",
   "nbconvert_exporter": "python",
   "pygments_lexer": "ipython3",
   "version": "3.9.18"
  }
 },
 "nbformat": 4,
 "nbformat_minor": 2
}
